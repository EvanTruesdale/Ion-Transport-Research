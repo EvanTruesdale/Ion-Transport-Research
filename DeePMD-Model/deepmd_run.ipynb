{
 "cells": [
  {
   "cell_type": "code",
   "execution_count": null,
   "metadata": {},
   "outputs": [],
   "source": [
    "from azure.ai.ml import MLClient, Input, command\n",
    "from azure.ai.ml.constants import AssetTypes\n",
    "from azure.ai.ml.entities import AmlCompute, Environment\n",
    "from azure.identity import DefaultAzureCredential\n",
    "\n",
    "subscription_id = '438c0ace-ee69-494d-b181-5f3a0a7d1ab6'\n",
    "resource_group = 'deepmd'\n",
    "environment_name = 'deepmd@latest'\n",
    "workspace_name = 'DeePMD_EvanTruesdale'\n",
    "compute_name = 'gpucluster'\n",
    "dataset_path = 'azureml:LLZO_Ia3d:1'\n",
    "\n",
    "# Get workspace\n",
    "ml_client = MLClient(\n",
    "    DefaultAzureCredential(), \n",
    "    subscription_id=subscription_id, \n",
    "    resource_group_name=resource_group,\n",
    "    workspace_name=workspace_name\n",
    ")\n",
    "\n",
    "# Get dataset\n",
    "inputs = {\n",
    "    \"data_directory\": Input(type=AssetTypes.URI_FOLDER, path=dataset_path, mode='download')\n",
    "}\n",
    "\n",
    "# Define the command\n",
    "command_job = command(\n",
    "    code=\"./src\",\n",
    "    command=\"python deepmd_script.py --data_directory ${{inputs.data_directory}}\",\n",
    "    environment=environment_name,\n",
    "    compute=compute_name,\n",
    "    inputs=inputs\n",
    ")\n",
    "\n",
    "# Run command\n",
    "returned_job = ml_client.jobs.create_or_update(command_job)\n",
    "returned_job"
   ]
  }
 ],
 "metadata": {
  "language_info": {
   "name": "python"
  },
  "orig_nbformat": 4
 },
 "nbformat": 4,
 "nbformat_minor": 2
}
