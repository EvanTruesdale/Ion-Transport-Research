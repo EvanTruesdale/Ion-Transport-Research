{
 "cells": [
  {
   "cell_type": "code",
   "execution_count": 1,
   "metadata": {},
   "outputs": [],
   "source": [
    "import dpdata\n",
    "import matplotlib.pyplot as plt\n",
    "import numpy as np\n",
    "from glob import glob"
   ]
  },
  {
   "cell_type": "markdown",
   "metadata": {},
   "source": [
    "## MultiSystem Conversion"
   ]
  },
  {
   "cell_type": "code",
   "execution_count": 4,
   "metadata": {},
   "outputs": [],
   "source": [
    "files = glob('./MD-VASP/v2/LLZO_Ia3d_Al20*/vasprun.xml')\n",
    "ms = dpdata.MultiSystems()\n",
    "for f in files:\n",
    "    try:\n",
    "        ls = dpdata.LabeledSystem(f)\n",
    "    except:\n",
    "        print(f)\n",
    "    if len(ls)>0:\n",
    "        ms.append(ls)"
   ]
  },
  {
   "cell_type": "code",
   "execution_count": 5,
   "metadata": {},
   "outputs": [
    {
     "data": {
      "text/plain": [
       "{'O96La24Zr16Li50Al2': Data Summary\n",
       " Labeled System\n",
       " -------------------\n",
       " Frame Numbers      : 18251\n",
       " Atom Numbers       : 188\n",
       " Including Virials  : Yes\n",
       " Element List       :\n",
       " -------------------\n",
       " O  La  Zr  Li  Al\n",
       " 96  24  16  50  2}"
      ]
     },
     "execution_count": 5,
     "metadata": {},
     "output_type": "execute_result"
    }
   ],
   "source": [
    "ms.systems"
   ]
  },
  {
   "cell_type": "code",
   "execution_count": 4,
   "metadata": {},
   "outputs": [],
   "source": [
    "# For Testing concentrations only\n",
    "nframes = len(ms.systems['O96La24Zr16Li56']['energies'])\n",
    "arr = np.arange(nframes)\n",
    "ms.systems['O96La24Zr16Li56'].sub_system(arr).to('deepmd/npy', './MD-VASP/npy_LLZO_Ia3d_Al00_testing')"
   ]
  },
  {
   "cell_type": "code",
   "execution_count": 6,
   "metadata": {},
   "outputs": [
    {
     "name": "stdout",
     "output_type": "stream",
     "text": [
      "10951\n"
     ]
    }
   ],
   "source": [
    "# For Training concentrations\n",
    "nframes = len(ms.systems['O96La24Zr16Li50Al2']['energies'])\n",
    "val = int(nframes*.2)\n",
    "test = int(nframes*.2)\n",
    "train = nframes - val - test\n",
    "print(train)\n",
    "arr = np.arange(nframes)\n",
    "np.random.shuffle(arr)\n",
    "\n",
    "ms.systems['O96La24Zr16Li50Al2'].sub_system(arr[0:val]).to('deepmd/npy', './MD-VASP/v2/npy_LLZO_Ia3d_Al20_validation')\n",
    "ms.systems['O96La24Zr16Li50Al2'].sub_system(arr[val:val+test]).to('deepmd/npy', './MD-VASP/v2/npy_LLZO_Ia3d_Al20_testing')\n",
    "ms.systems['O96La24Zr16Li50Al2'].sub_system(arr[val+test:-1]).to('deepmd/npy', './MD-VASP/v2/npy_LLZO_Ia3d_Al20_training')"
   ]
  },
  {
   "cell_type": "code",
   "execution_count": null,
   "metadata": {},
   "outputs": [],
   "source": []
  }
 ],
 "metadata": {
  "kernelspec": {
   "display_name": "Python 3.10.6 ('venv': venv)",
   "language": "python",
   "name": "python3"
  },
  "language_info": {
   "codemirror_mode": {
    "name": "ipython",
    "version": 3
   },
   "file_extension": ".py",
   "mimetype": "text/x-python",
   "name": "python",
   "nbconvert_exporter": "python",
   "pygments_lexer": "ipython3",
   "version": "3.10.6"
  },
  "vscode": {
   "interpreter": {
    "hash": "dfd3710c097379630f6e9b096307cadfa97c57ce9eee8dc0075528aa2127eccb"
   }
  }
 },
 "nbformat": 4,
 "nbformat_minor": 4
}
