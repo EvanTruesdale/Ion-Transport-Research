{
 "cells": [
  {
   "cell_type": "code",
   "execution_count": null,
   "metadata": {},
   "outputs": [],
   "source": [
    "import numpy as np\n",
    "import pandas as pd"
   ]
  },
  {
   "cell_type": "code",
   "execution_count": null,
   "metadata": {},
   "outputs": [],
   "source": [
    "# Name of file\n",
    "name = \"LLZO\"\n",
    "# Size of supercell\n",
    "supersize = 2\n",
    "new_name = name + \"_\" + str(supersize)\n",
    "\n",
    "# Open file and get lines\n",
    "structure_file = open(name+\".vasp\", 'r')\n",
    "lines = structure_file.readlines()\n",
    "structure_file.close()\n",
    "scale = lines[1]\n",
    "lattice = lines[2:5]\n",
    "composition = lines[5:7]\n",
    "method = lines[7]\n",
    "atomic_positions = lines[8:]"
   ]
  },
  {
   "cell_type": "code",
   "execution_count": null,
   "metadata": {},
   "outputs": [],
   "source": [
    "# Set new scale and copy original lattice\n",
    "new_scale = float(scale) * supersize\n",
    "new_lattice = lattice\n",
    "\n",
    "# Get multiply atom quantity by supercell size ** 3, then sort by Element alphabetically\n",
    "new_composition = [\"\", \"\"]\n",
    "new_composition[0] = np.array(composition[0].rstrip('\\n').split(\" \"))\n",
    "new_composition[1] = np.array(composition[1].split(\" \"), dtype=\"int64\")\n",
    "new_composition[1] *= supersize**3\n",
    "new_composition = np.array(new_composition)\n",
    "new_composition = pd.DataFrame(new_composition.transpose(), columns=['Element', 'Count'])\n",
    "new_composition = new_composition.sort_values(by=['Element'])\n",
    "new_composition = new_composition.to_numpy().transpose()\n",
    "\n",
    "# Copy method\n",
    "new_method = method\n",
    "\n",
    "# Split lines into an array of atomic positions\n",
    "new_atomic_positions = np.empty((0, 3))\n",
    "split = [x.split(\" \") for x in atomic_positions]\n",
    "split = np.array(split)\n",
    "# Add offset matrix to fill supercell and concatenate data to the last\n",
    "for i in range(supersize):\n",
    "    for j in range(supersize):\n",
    "        for k in range(supersize):\n",
    "            x = np.array([[(1/supersize)*i, 0, 0] for x in range(len(atomic_positions))])\n",
    "            y = np.array([[0, (1/supersize)*j, 0] for x in range(len(atomic_positions))])\n",
    "            z = np.array([[0, 0, (1/supersize)*k] for x in range(len(atomic_positions))])\n",
    "            sum = x+y+z\n",
    "            sum += (1/supersize) * split[:, 0:3].astype('float64')\n",
    "            new_atomic_positions = np.concatenate( (new_atomic_positions, sum), axis=0)\n",
    "# Reshape Element names to concatenate on right hand side\n",
    "temp = np.array([np.reshape(split[:,3], split[:,3].size) for x in range(supersize**3)])\n",
    "temp = np.reshape(temp, temp.size)\n",
    "temp = np.reshape(temp, (temp.size, 1))\n",
    "new_atomic_positions = np.concatenate( (new_atomic_positions, temp), axis=1)\n",
    "# Sort by element alphabetically\n",
    "new_atomic_positions = pd.DataFrame(new_atomic_positions, columns=['X', 'Y', 'Z', 'Element'])\n",
    "new_atomic_positions = new_atomic_positions.sort_values(by=['Element'])\n",
    "new_atomic_positions = new_atomic_positions.to_numpy()"
   ]
  },
  {
   "cell_type": "code",
   "execution_count": null,
   "metadata": {},
   "outputs": [],
   "source": [
    "# Write to new file\n",
    "with open(new_name+\".vasp\", \"w\") as f:\n",
    "    f.write(new_name+\"\\n\")\n",
    "    f.write(str(new_scale)+\"\\n\")\n",
    "    for line in new_lattice:\n",
    "        f.write(line)\n",
    "    f.write(\" \".join(new_composition[0]) + \"\\n\")\n",
    "    f.write(\" \".join(map(str, new_composition[1])) + \"\\n\")\n",
    "    f.write(new_method)\n",
    "    for line in new_atomic_positions:\n",
    "        f.write(\" \".join(line))"
   ]
  }
 ],
 "metadata": {
  "kernelspec": {
   "display_name": "Python 3",
   "language": "python",
   "name": "python3"
  },
  "language_info": {
   "codemirror_mode": {
    "name": "ipython",
    "version": 3
   },
   "file_extension": ".py",
   "mimetype": "text/x-python",
   "name": "python",
   "nbconvert_exporter": "python",
   "pygments_lexer": "ipython3",
   "version": "3.8.10"
  }
 },
 "nbformat": 4,
 "nbformat_minor": 5
}
